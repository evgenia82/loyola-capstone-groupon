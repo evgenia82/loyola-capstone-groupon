{
 "cells": [
  {
   "cell_type": "markdown",
   "metadata": {},
   "source": [
    "### Part 1. Exploratory Data Analysis."
   ]
  },
  {
   "cell_type": "markdown",
   "metadata": {},
   "source": [
    "#### 1.1 Load the data."
   ]
  },
  {
   "cell_type": "code",
   "execution_count": 1,
   "metadata": {},
   "outputs": [],
   "source": [
    "import numpy as np\n",
    "import pandas as pd\n",
    "%matplotlib inline\n",
    "import matplotlib.pyplot as plt\n",
    "import seaborn as sns\n",
    "sns.set()"
   ]
  },
  {
   "cell_type": "code",
   "execution_count": 2,
   "metadata": {},
   "outputs": [],
   "source": [
    "df = pd.read_csv('groupon.txt', sep=None, engine='python')"
   ]
  },
  {
   "cell_type": "code",
   "execution_count": 3,
   "metadata": {},
   "outputs": [
    {
     "data": {
      "text/html": [
       "<div>\n",
       "<style scoped>\n",
       "    .dataframe tbody tr th:only-of-type {\n",
       "        vertical-align: middle;\n",
       "    }\n",
       "\n",
       "    .dataframe tbody tr th {\n",
       "        vertical-align: top;\n",
       "    }\n",
       "\n",
       "    .dataframe thead th {\n",
       "        text-align: right;\n",
       "    }\n",
       "</style>\n",
       "<table border=\"1\" class=\"dataframe\">\n",
       "  <thead>\n",
       "    <tr style=\"text-align: right;\">\n",
       "      <th></th>\n",
       "      <th>refund_bucket</th>\n",
       "      <th>refund_sub_bucket</th>\n",
       "      <th>order_date</th>\n",
       "      <th>transaction_date</th>\n",
       "      <th>week_end_date</th>\n",
       "      <th>dmm_subcat_1</th>\n",
       "      <th>category_1</th>\n",
       "      <th>deal_supply_channel</th>\n",
       "      <th>buyer_name_1</th>\n",
       "      <th>auth_bookings</th>\n",
       "      <th>capture_bookings</th>\n",
       "      <th>refunds</th>\n",
       "      <th>cancel_refunds</th>\n",
       "      <th>refunded_units</th>\n",
       "      <th>auth_refunds</th>\n",
       "      <th>capture_units</th>\n",
       "    </tr>\n",
       "  </thead>\n",
       "  <tbody>\n",
       "    <tr>\n",
       "      <th>0</th>\n",
       "      <td>Other</td>\n",
       "      <td>Other</td>\n",
       "      <td>8/4/2016</td>\n",
       "      <td>8/4/2016</td>\n",
       "      <td>8/7/2016</td>\n",
       "      <td>Inverse Normal</td>\n",
       "      <td>Probability distribution II</td>\n",
       "      <td>Goods Stores</td>\n",
       "      <td>Asher</td>\n",
       "      <td>?</td>\n",
       "      <td>?</td>\n",
       "      <td>91.87</td>\n",
       "      <td>?</td>\n",
       "      <td>3</td>\n",
       "      <td>?</td>\n",
       "      <td>?</td>\n",
       "    </tr>\n",
       "    <tr>\n",
       "      <th>1</th>\n",
       "      <td>Returns</td>\n",
       "      <td>Change of mind</td>\n",
       "      <td>8/31/2018</td>\n",
       "      <td>9/21/2018</td>\n",
       "      <td>9/23/2018</td>\n",
       "      <td>Binomial Distribution.</td>\n",
       "      <td>Probability distribution I</td>\n",
       "      <td>Goods</td>\n",
       "      <td>Jesus</td>\n",
       "      <td>?</td>\n",
       "      <td>?</td>\n",
       "      <td>20.98</td>\n",
       "      <td>?</td>\n",
       "      <td>1</td>\n",
       "      <td>?</td>\n",
       "      <td>?</td>\n",
       "    </tr>\n",
       "    <tr>\n",
       "      <th>2</th>\n",
       "      <td>Fraud</td>\n",
       "      <td>Fraud</td>\n",
       "      <td>4/19/2017</td>\n",
       "      <td>4/19/2017</td>\n",
       "      <td>4/23/2017</td>\n",
       "      <td>Power series</td>\n",
       "      <td>Calculus II</td>\n",
       "      <td>Goods</td>\n",
       "      <td>Tristan</td>\n",
       "      <td>?</td>\n",
       "      <td>?</td>\n",
       "      <td>?</td>\n",
       "      <td>79.94</td>\n",
       "      <td>?</td>\n",
       "      <td>?</td>\n",
       "      <td>?</td>\n",
       "    </tr>\n",
       "    <tr>\n",
       "      <th>3</th>\n",
       "      <td>Two-Hour Refunds</td>\n",
       "      <td>Two-Hour Refunds</td>\n",
       "      <td>2/5/2016</td>\n",
       "      <td>2/5/2016</td>\n",
       "      <td>2/7/2016</td>\n",
       "      <td>Prime Factorization Algorithms</td>\n",
       "      <td>?</td>\n",
       "      <td>Goods</td>\n",
       "      <td>Jeremiah</td>\n",
       "      <td>?</td>\n",
       "      <td>?</td>\n",
       "      <td>49.267469958</td>\n",
       "      <td>?</td>\n",
       "      <td>1</td>\n",
       "      <td>?</td>\n",
       "      <td>?</td>\n",
       "    </tr>\n",
       "    <tr>\n",
       "      <th>4</th>\n",
       "      <td>Shortage Cancellations</td>\n",
       "      <td>Vendor Shortage</td>\n",
       "      <td>7/21/2018</td>\n",
       "      <td>8/15/2018</td>\n",
       "      <td>8/19/2018</td>\n",
       "      <td>Transformations</td>\n",
       "      <td>Geometry</td>\n",
       "      <td>Goods</td>\n",
       "      <td>Jacob</td>\n",
       "      <td>?</td>\n",
       "      <td>?</td>\n",
       "      <td>29.97</td>\n",
       "      <td>?</td>\n",
       "      <td>2</td>\n",
       "      <td>?</td>\n",
       "      <td>?</td>\n",
       "    </tr>\n",
       "    <tr>\n",
       "      <th>5</th>\n",
       "      <td>Logistics Cancellations</td>\n",
       "      <td>Dead Tracking</td>\n",
       "      <td>11/17/2016</td>\n",
       "      <td>12/8/2016</td>\n",
       "      <td>12/11/2016</td>\n",
       "      <td>Surface of revolution</td>\n",
       "      <td>Calculus II</td>\n",
       "      <td>Goods</td>\n",
       "      <td>River</td>\n",
       "      <td>?</td>\n",
       "      <td>?</td>\n",
       "      <td>34.99</td>\n",
       "      <td>?</td>\n",
       "      <td>1</td>\n",
       "      <td>?</td>\n",
       "      <td>?</td>\n",
       "    </tr>\n",
       "    <tr>\n",
       "      <th>6</th>\n",
       "      <td>?</td>\n",
       "      <td>?</td>\n",
       "      <td>7/17/2018</td>\n",
       "      <td>7/19/2018</td>\n",
       "      <td>7/22/2018</td>\n",
       "      <td>Folded Normal / Half Normal Distribution.</td>\n",
       "      <td>Probability distribution I</td>\n",
       "      <td>Goods</td>\n",
       "      <td>Tessa</td>\n",
       "      <td>?</td>\n",
       "      <td>1597.29449477419</td>\n",
       "      <td>?</td>\n",
       "      <td>?</td>\n",
       "      <td>?</td>\n",
       "      <td>?</td>\n",
       "      <td>95</td>\n",
       "    </tr>\n",
       "    <tr>\n",
       "      <th>7</th>\n",
       "      <td>Other</td>\n",
       "      <td>Other</td>\n",
       "      <td>4/10/2017</td>\n",
       "      <td>7/14/2017</td>\n",
       "      <td>7/16/2017</td>\n",
       "      <td>Non Linear programming</td>\n",
       "      <td>Operations Research</td>\n",
       "      <td>Goods</td>\n",
       "      <td>Kaylee</td>\n",
       "      <td>?</td>\n",
       "      <td>?</td>\n",
       "      <td>4.99</td>\n",
       "      <td>?</td>\n",
       "      <td>1</td>\n",
       "      <td>?</td>\n",
       "      <td>?</td>\n",
       "    </tr>\n",
       "    <tr>\n",
       "      <th>8</th>\n",
       "      <td>Returns</td>\n",
       "      <td>Change of mind</td>\n",
       "      <td>11/9/2018</td>\n",
       "      <td>12/21/2018</td>\n",
       "      <td>12/23/2018</td>\n",
       "      <td>Power series</td>\n",
       "      <td>Calculus II</td>\n",
       "      <td>Goods</td>\n",
       "      <td>?</td>\n",
       "      <td>?</td>\n",
       "      <td>?</td>\n",
       "      <td>19.99</td>\n",
       "      <td>?</td>\n",
       "      <td>1</td>\n",
       "      <td>?</td>\n",
       "      <td>?</td>\n",
       "    </tr>\n",
       "    <tr>\n",
       "      <th>9</th>\n",
       "      <td>Fraud</td>\n",
       "      <td>Fraud</td>\n",
       "      <td>9/14/2018</td>\n",
       "      <td>9/14/2018</td>\n",
       "      <td>9/16/2018</td>\n",
       "      <td>Power series</td>\n",
       "      <td>Calculus II</td>\n",
       "      <td>Goods</td>\n",
       "      <td>?</td>\n",
       "      <td>?</td>\n",
       "      <td>?</td>\n",
       "      <td>?</td>\n",
       "      <td>5082.78</td>\n",
       "      <td>?</td>\n",
       "      <td>?</td>\n",
       "      <td>?</td>\n",
       "    </tr>\n",
       "  </tbody>\n",
       "</table>\n",
       "</div>"
      ],
      "text/plain": [
       "             refund_bucket refund_sub_bucket  order_date transaction_date  \\\n",
       "0                    Other             Other    8/4/2016         8/4/2016   \n",
       "1                  Returns    Change of mind   8/31/2018        9/21/2018   \n",
       "2                    Fraud             Fraud   4/19/2017        4/19/2017   \n",
       "3         Two-Hour Refunds  Two-Hour Refunds    2/5/2016         2/5/2016   \n",
       "4   Shortage Cancellations   Vendor Shortage   7/21/2018        8/15/2018   \n",
       "5  Logistics Cancellations     Dead Tracking  11/17/2016        12/8/2016   \n",
       "6                        ?                 ?   7/17/2018        7/19/2018   \n",
       "7                    Other             Other   4/10/2017        7/14/2017   \n",
       "8                  Returns    Change of mind   11/9/2018       12/21/2018   \n",
       "9                    Fraud             Fraud   9/14/2018        9/14/2018   \n",
       "\n",
       "  week_end_date                               dmm_subcat_1  \\\n",
       "0      8/7/2016                             Inverse Normal   \n",
       "1     9/23/2018                     Binomial Distribution.   \n",
       "2     4/23/2017                               Power series   \n",
       "3      2/7/2016             Prime Factorization Algorithms   \n",
       "4     8/19/2018                            Transformations   \n",
       "5    12/11/2016                      Surface of revolution   \n",
       "6     7/22/2018  Folded Normal / Half Normal Distribution.   \n",
       "7     7/16/2017                     Non Linear programming   \n",
       "8    12/23/2018                               Power series   \n",
       "9     9/16/2018                               Power series   \n",
       "\n",
       "                    category_1 deal_supply_channel buyer_name_1 auth_bookings  \\\n",
       "0  Probability distribution II        Goods Stores       Asher              ?   \n",
       "1   Probability distribution I               Goods       Jesus              ?   \n",
       "2                  Calculus II               Goods     Tristan              ?   \n",
       "3                            ?               Goods    Jeremiah              ?   \n",
       "4                     Geometry               Goods       Jacob              ?   \n",
       "5                  Calculus II               Goods        River             ?   \n",
       "6   Probability distribution I               Goods        Tessa             ?   \n",
       "7          Operations Research               Goods       Kaylee             ?   \n",
       "8                  Calculus II               Goods            ?             ?   \n",
       "9                  Calculus II               Goods            ?             ?   \n",
       "\n",
       "   capture_bookings       refunds cancel_refunds refunded_units auth_refunds  \\\n",
       "0                 ?         91.87              ?              3            ?   \n",
       "1                 ?         20.98              ?              1            ?   \n",
       "2                 ?             ?          79.94              ?            ?   \n",
       "3                 ?  49.267469958              ?              1            ?   \n",
       "4                 ?         29.97              ?              2            ?   \n",
       "5                 ?         34.99              ?              1            ?   \n",
       "6  1597.29449477419             ?              ?              ?            ?   \n",
       "7                 ?          4.99              ?              1            ?   \n",
       "8                 ?         19.99              ?              1            ?   \n",
       "9                 ?             ?        5082.78              ?            ?   \n",
       "\n",
       "  capture_units  \n",
       "0             ?  \n",
       "1             ?  \n",
       "2             ?  \n",
       "3             ?  \n",
       "4             ?  \n",
       "5             ?  \n",
       "6            95  \n",
       "7             ?  \n",
       "8             ?  \n",
       "9             ?  "
      ]
     },
     "execution_count": 3,
     "metadata": {},
     "output_type": "execute_result"
    }
   ],
   "source": [
    "df.head(10)"
   ]
  },
  {
   "cell_type": "code",
   "execution_count": 5,
   "metadata": {},
   "outputs": [
    {
     "name": "stdout",
     "output_type": "stream",
     "text": [
      "<class 'pandas.core.frame.DataFrame'>\n",
      "RangeIndex: 6831276 entries, 0 to 6831275\n",
      "Data columns (total 16 columns):\n",
      " #   Column               Dtype \n",
      "---  ------               ----- \n",
      " 0   refund_bucket        object\n",
      " 1   refund_sub_bucket    object\n",
      " 2   order_date           object\n",
      " 3   transaction_date     object\n",
      " 4   week_end_date        object\n",
      " 5   dmm_subcat_1         object\n",
      " 6   category_1           object\n",
      " 7   deal_supply_channel  object\n",
      " 8   buyer_name_1         object\n",
      " 9   auth_bookings        object\n",
      " 10  capture_bookings     object\n",
      " 11  refunds              object\n",
      " 12  cancel_refunds       object\n",
      " 13  refunded_units       object\n",
      " 14  auth_refunds         object\n",
      " 15  capture_units        object\n",
      "dtypes: object(16)\n",
      "memory usage: 833.9+ MB\n",
      "None\n",
      "(6831276, 16)\n"
     ]
    }
   ],
   "source": [
    "print(df.info())\n",
    "print(df.shape)"
   ]
  },
  {
   "cell_type": "markdown",
   "metadata": {},
   "source": [
    "Our dataframe consists of 16 columns and approximately 6.8 millions rows. The dataframe is huge as it occupies almost 1 GB of memory. Python loaded all columns as objects - so we need to transform data into right data type. The original dictionary with data types description is provided below."
   ]
  },
  {
   "attachments": {},
   "cell_type": "markdown",
   "metadata": {},
   "source": [
    "|Column_name\t                |Type\t\t|Description\n",
    "| --- | --- | --- |\n",
    "|refund_bucket                 \t|Varchar\t|Reason for refunding customer\n",
    "|refund_sub_bucket             \t|Varchar\t|Sub reason for refunding customer\n",
    "|transaction_date              \t|Date\t\t|date of refund\n",
    "|week_end_date                 \t|Date\t\t|weekend date of refund\n",
    "|dmm_subcat                    \t|Varchar\t|sub category of product\n",
    "|category                      \t|Varchar\t|category of product\n",
    "|deal_supply_channel           \t|Varchar\t|channel of sale\n",
    "|buyer_name                    \t|Varchar\t|name of buyer who sourced the product\n",
    "|auth_bookings                 \t|Float\t\t|bookings authorized on card\n",
    "|capture_bookings              \t|Float\t\t|bookings captured\n",
    "|refunds                       \t|Float\t\t|amount of refund\n",
    "|cancel_refunds                \t|Float\t\t|refunds if the transaction was a cancellation\n",
    "|refunded_units                \t|Integer\t|quantity of product for which refunds were issued\n",
    "|auth_refunds                  \t|Integer\t|\t\n",
    "|capture_units                 \t|Integer\t|\t"
   ]
  },
  {
   "cell_type": "markdown",
   "metadata": {},
   "source": [
    "#### 1.2. Data Cleaning and Transformation"
   ]
  },
  {
   "cell_type": "code",
   "execution_count": 8,
   "metadata": {},
   "outputs": [],
   "source": [
    "df['refunded_units'] = df['refunded_units'].str.replace('?', '0')\n",
    "df['refunded_units'] = df['refunded_units'].astype(int)"
   ]
  },
  {
   "cell_type": "markdown",
   "metadata": {},
   "source": [
    "Now when we convereted refunded units into integer data type, let's work with auth_refunds, and capture_units in the same way."
   ]
  },
  {
   "cell_type": "code",
   "execution_count": 9,
   "metadata": {},
   "outputs": [],
   "source": [
    "df['auth_refunds'] = df['auth_refunds'].str.replace('?', '0')\n",
    "df['auth_refunds'] = df['auth_refunds'].astype(int)"
   ]
  },
  {
   "cell_type": "code",
   "execution_count": 10,
   "metadata": {},
   "outputs": [],
   "source": [
    "df['capture_units'] = df['capture_units'].str.replace('?', '0')\n",
    "df['capture_units'] = df['capture_units'].astype(int)"
   ]
  },
  {
   "cell_type": "markdown",
   "metadata": {},
   "source": [
    "Now let's convert auth_bookings, capture_bookings, refunds, and cancel_refunds columns into the float data type."
   ]
  },
  {
   "cell_type": "code",
   "execution_count": null,
   "metadata": {},
   "outputs": [],
   "source": [
    "df['auth_bookings'] = df['auth_bookings'].str.replace('?', '0')\n",
    "df['auth_bookings'] = df['auth_bookings'].astype(float)"
   ]
  },
  {
   "cell_type": "code",
   "execution_count": null,
   "metadata": {},
   "outputs": [],
   "source": [
    "df['capture_bookings'] = df['capture_bookings'].str.replace('?', '0')\n",
    "df['capture_bookings'] = df['capture_bookings'].astype(float)"
   ]
  },
  {
   "cell_type": "code",
   "execution_count": null,
   "metadata": {},
   "outputs": [],
   "source": [
    "df['refunds'] = df['refunds'].str.replace('?', '0')\n",
    "df['refunds'] = df['refunds'].astype(float)"
   ]
  },
  {
   "cell_type": "code",
   "execution_count": 44,
   "metadata": {},
   "outputs": [],
   "source": [
    "df['cancel_refunds'] = df['cancel_refunds'].str.replace('?', '0')\n",
    "df['cancel_refunds'] = df['cancel_refunds'].astype(float)"
   ]
  },
  {
   "cell_type": "markdown",
   "metadata": {},
   "source": [
    "Now when we converted our refunds columns to float data type, let's convert transaction_date and week_end_date into date/time data type."
   ]
  },
  {
   "cell_type": "code",
   "execution_count": 45,
   "metadata": {},
   "outputs": [],
   "source": [
    "df['order_date'] = pd.to_datetime(df['order_date'], infer_datetime_format=True)\n",
    "df['transaction_date'] = pd.to_datetime(df['transaction_date'], infer_datetime_format=True)\n",
    "df['week_end_date'] = pd.to_datetime(df['week_end_date'], infer_datetime_format=True)"
   ]
  },
  {
   "cell_type": "markdown",
   "metadata": {},
   "source": [
    "### DMM_SUBCAT_1 COLUMN"
   ]
  },
  {
   "cell_type": "code",
   "execution_count": 46,
   "metadata": {},
   "outputs": [],
   "source": [
    "df['dmm_subcat_1'] = df['dmm_subcat_1'].str.replace('?', 'unknown')"
   ]
  },
  {
   "cell_type": "code",
   "execution_count": 47,
   "metadata": {},
   "outputs": [
    {
     "name": "stdout",
     "output_type": "stream",
     "text": [
      "140\n",
      "Power series                      380191\n",
      "Surface of revolution             202547\n",
      "Maclaurin series                  180019\n",
      "Polynomial functions              173272\n",
      "Bernoulli Distribution            154714\n",
      "Prime Factorization Algorithms    147979\n",
      "Erlang Distribution.              145873\n",
      "Electrical networks               128065\n",
      "Degenerate Distribution.          124399\n",
      "Exponential Distribution.         123513\n",
      "Name: dmm_subcat_1, dtype: int64\n"
     ]
    }
   ],
   "source": [
    "print(df['dmm_subcat_1'].nunique())\n",
    "print(df['dmm_subcat_1'].value_counts().head(10))"
   ]
  },
  {
   "cell_type": "markdown",
   "metadata": {},
   "source": [
    "### CATEGORY COLUMN"
   ]
  },
  {
   "cell_type": "code",
   "execution_count": 48,
   "metadata": {},
   "outputs": [
    {
     "name": "stdout",
     "output_type": "stream",
     "text": [
      "14\n",
      "Probability distribution I     1603719\n",
      "Probability distribution II    1213601\n",
      "Calculus II                    1070787\n",
      "Geometry                        626388\n",
      "Algebra                         567067\n",
      "Graph Theory                    520646\n",
      "Linear Regression               378167\n",
      "unknown                         376896\n",
      "Calculus I                      171269\n",
      "Combinatorics                   117097\n",
      "Decision Tree                    98516\n",
      "Operations Research              69411\n",
      "Clustering algorithms            13813\n",
      "Ensemble methods                  3899\n",
      "Name: category_1, dtype: int64\n"
     ]
    }
   ],
   "source": [
    "df['category_1'] = df['category_1'].str.replace('?', 'unknown')\n",
    "print(df['category_1'].nunique())\n",
    "print(df['category_1'].value_counts())"
   ]
  },
  {
   "cell_type": "markdown",
   "metadata": {},
   "source": [
    "### DEAL SUPPLY CHANNEL COLUMN"
   ]
  },
  {
   "cell_type": "code",
   "execution_count": 49,
   "metadata": {},
   "outputs": [
    {
     "data": {
      "text/plain": [
       "Goods           6253600\n",
       "Goods Stores     577676\n",
       "Name: deal_supply_channel, dtype: int64"
      ]
     },
     "execution_count": 49,
     "metadata": {},
     "output_type": "execute_result"
    }
   ],
   "source": [
    "df['deal_supply_channel'].value_counts()"
   ]
  },
  {
   "cell_type": "markdown",
   "metadata": {},
   "source": [
    "### BUYER NAME COLUMN"
   ]
  },
  {
   "cell_type": "code",
   "execution_count": 50,
   "metadata": {},
   "outputs": [],
   "source": [
    "df['buyer_name_1'] = df['buyer_name_1'].str.replace('?', 'Unknown')"
   ]
  },
  {
   "cell_type": "code",
   "execution_count": 51,
   "metadata": {},
   "outputs": [
    {
     "name": "stdout",
     "output_type": "stream",
     "text": [
      "353\n",
      "Unknown      965347\n",
      "Asher        520015\n",
      "Luis         100820\n",
      "Max           95006\n",
      "Ezra          88199\n",
      "Sofia         84766\n",
      "Giovanni      80643\n",
      "Stella        79479\n",
      "Camila        76727\n",
      "Emmett        75189\n",
      "Name: buyer_name_1, dtype: int64\n"
     ]
    }
   ],
   "source": [
    "print(df['buyer_name_1'].nunique())\n",
    "print(df['buyer_name_1'].value_counts().head(10))"
   ]
  },
  {
   "cell_type": "markdown",
   "metadata": {},
   "source": [
    "### REFUND BUCKET COLUMN"
   ]
  },
  {
   "cell_type": "code",
   "execution_count": 52,
   "metadata": {},
   "outputs": [],
   "source": [
    "df['refund_bucket'] = df['refund_bucket'].str.replace('?', 'Unknown')"
   ]
  },
  {
   "cell_type": "code",
   "execution_count": 53,
   "metadata": {},
   "outputs": [
    {
     "data": {
      "text/plain": [
       "Returns                    2781522\n",
       "Unknown                    1956060\n",
       "Logistics Cancellations    1086118\n",
       "Two-Hour Refunds            503519\n",
       "Other                       207162\n",
       "Shortage Cancellations      170881\n",
       "Fraud                       126014\n",
       "Name: refund_bucket, dtype: int64"
      ]
     },
     "execution_count": 53,
     "metadata": {},
     "output_type": "execute_result"
    }
   ],
   "source": [
    "df['refund_bucket'].value_counts()"
   ]
  },
  {
   "cell_type": "markdown",
   "metadata": {},
   "source": [
    "### REFUND SUB BUCKET COLUMN"
   ]
  },
  {
   "cell_type": "code",
   "execution_count": 54,
   "metadata": {},
   "outputs": [],
   "source": [
    "df['refund_sub_bucket'] = df['refund_sub_bucket'].str.replace('?', 'Unknown')"
   ]
  },
  {
   "cell_type": "code",
   "execution_count": 55,
   "metadata": {},
   "outputs": [
    {
     "data": {
      "text/plain": [
       "Unknown                     1956060\n",
       "Product Quality              910743\n",
       "Change of mind               837070\n",
       "Two-Hour Refunds             503519\n",
       "Wrong/Damaged Product        494392\n",
       "Wrong Size                   472068\n",
       "Returned to Sender           335514\n",
       "Dead Tracking                291467\n",
       "Tracking Shows Delivered     276718\n",
       "Other                        207162\n",
       "Purchase Issues              129031\n",
       "Fraud                        126014\n",
       "Vendor Shortage              107126\n",
       "Other Returns                 67249\n",
       "Shipping Issues               53388\n",
       "Groupon Error                 29543\n",
       "Other Shortage                26638\n",
       "Warehouse Shortage             7574\n",
       "Name: refund_sub_bucket, dtype: int64"
      ]
     },
     "execution_count": 55,
     "metadata": {},
     "output_type": "execute_result"
    }
   ],
   "source": [
    "df['refund_sub_bucket'].value_counts()"
   ]
  },
  {
   "cell_type": "code",
   "execution_count": 56,
   "metadata": {},
   "outputs": [
    {
     "data": {
      "text/plain": [
       "18"
      ]
     },
     "execution_count": 56,
     "metadata": {},
     "output_type": "execute_result"
    }
   ],
   "source": [
    "df['refund_sub_bucket'].nunique()"
   ]
  },
  {
   "cell_type": "code",
   "execution_count": 57,
   "metadata": {},
   "outputs": [
    {
     "name": "stdout",
     "output_type": "stream",
     "text": [
      "<class 'pandas.core.frame.DataFrame'>\n",
      "RangeIndex: 6831276 entries, 0 to 6831275\n",
      "Data columns (total 16 columns):\n",
      "refund_bucket          object\n",
      "refund_sub_bucket      object\n",
      "order_date             datetime64[ns]\n",
      "transaction_date       datetime64[ns]\n",
      "week_end_date          datetime64[ns]\n",
      "dmm_subcat_1           object\n",
      "category_1             object\n",
      "deal_supply_channel    object\n",
      "buyer_name_1           object\n",
      "auth_bookings          float64\n",
      "capture_bookings       float64\n",
      "refunds                float64\n",
      "cancel_refunds         float64\n",
      "refunded_units         int32\n",
      "auth_refunds           int32\n",
      "capture_units          int32\n",
      "dtypes: datetime64[ns](3), float64(4), int32(3), object(6)\n",
      "memory usage: 755.7+ MB\n"
     ]
    }
   ],
   "source": [
    "df.info()"
   ]
  },
  {
   "cell_type": "markdown",
   "metadata": {},
   "source": [
    "Now when transaction date column is actually DateTime objects let's use .apply() to create 3 new columns called Year, Month, and Day of Week."
   ]
  },
  {
   "cell_type": "code",
   "execution_count": 58,
   "metadata": {},
   "outputs": [],
   "source": [
    "df['transaction_year'] = pd.DatetimeIndex(df['transaction_date']).year\n",
    "df['transaction_month'] = pd.DatetimeIndex(df['transaction_date']).month\n",
    "df['transaction_day'] = pd.DatetimeIndex(df['transaction_date']).dayofweek"
   ]
  },
  {
   "cell_type": "markdown",
   "metadata": {},
   "source": [
    "### Part 2. Machine Learning Modeling."
   ]
  }
 ],
 "metadata": {
  "kernelspec": {
   "display_name": "Python 3",
   "language": "python",
   "name": "python3"
  },
  "language_info": {
   "codemirror_mode": {
    "name": "ipython",
    "version": 3
   },
   "file_extension": ".py",
   "mimetype": "text/x-python",
   "name": "python",
   "nbconvert_exporter": "python",
   "pygments_lexer": "ipython3",
   "version": "3.6.9"
  }
 },
 "nbformat": 4,
 "nbformat_minor": 2
}
